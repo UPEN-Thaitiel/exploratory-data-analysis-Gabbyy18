{
 "cells": [
  {
   "cell_type": "markdown",
   "id": "10ab6f70",
   "metadata": {},
   "source": [
    "## Introduction to Numpy\n",
    "\n",
    "#### **Name:** <Insert name>\n"
   ]
  },
  {
   "cell_type": "markdown",
   "id": "cb7056d7",
   "metadata": {},
   "source": [
    "#### Import numpy"
   ]
  },
  {
   "cell_type": "code",
   "execution_count": 1,
   "id": "4de0cf3f",
   "metadata": {},
   "outputs": [
    {
     "name": "stdout",
     "output_type": "stream",
     "text": [
      "Requirement already satisfied: numpy in c:\\users\\gabri\\appdata\\local\\packages\\pythonsoftwarefoundation.python.3.10_qbz5n2kfra8p0\\localcache\\local-packages\\python310\\site-packages (2.2.6)\n"
     ]
    },
    {
     "name": "stderr",
     "output_type": "stream",
     "text": [
      "\n",
      "[notice] A new release of pip is available: 23.0.1 -> 25.1.1\n",
      "[notice] To update, run: C:\\Users\\gabri\\AppData\\Local\\Microsoft\\WindowsApps\\PythonSoftwareFoundation.Python.3.10_qbz5n2kfra8p0\\python.exe -m pip install --upgrade pip\n"
     ]
    }
   ],
   "source": [
    "!pip install numpy"
   ]
  },
  {
   "cell_type": "code",
   "execution_count": 2,
   "id": "2eb5d611",
   "metadata": {},
   "outputs": [],
   "source": [
    "import numpy as np"
   ]
  },
  {
   "cell_type": "markdown",
   "id": "4d8550aa",
   "metadata": {},
   "source": [
    "#### Numpy operations\n",
    "1.- Create array a with values from 1-5 \\\n",
    "2.- create an array b with values from 6 - 10"
   ]
  },
  {
   "cell_type": "code",
   "execution_count": null,
   "id": "7b8cdb38",
   "metadata": {},
   "outputs": [],
   "source": [
    "a = np.arange(1, 6)\n",
    "a"
   ]
  },
  {
   "cell_type": "code",
   "execution_count": null,
   "id": "ebbc17d3",
   "metadata": {},
   "outputs": [],
   "source": [
    "b = np.arange(6, 11)\n",
    "b\n"
   ]
  },
  {
   "cell_type": "markdown",
   "id": "1b1c7c38",
   "metadata": {},
   "source": [
    "#### Matrix Operations with numpy\n",
    "\n",
    "1. Create a 3x3 matrix in numpy with the following values: \n",
    "\n",
    "⎡ 1  2  3 ⎤ \\\n",
    "⎢ 4  5  6 ⎥ \\\n",
    "⎣ 7  8  9 ⎦ \n",
    "\n",
    "2.- Transpose the matrix and save it into a transpose variable \\\n",
    "3.- Add both matrix \\\n",
    "4.- Multiply both matrix\n",
    "\n"
   ]
  },
  {
   "cell_type": "code",
   "execution_count": null,
   "id": "439c836d",
   "metadata": {},
   "outputs": [],
   "source": [
    "matrix = np.array([[1,2,3],[4,5,6],[7,8,9]])\n",
    "matrix"
   ]
  },
  {
   "cell_type": "code",
   "execution_count": null,
   "id": "6d486970",
   "metadata": {},
   "outputs": [],
   "source": [
    "\n",
    "transpose = matrix.T\n",
    "transpose"
   ]
  },
  {
   "cell_type": "code",
   "execution_count": null,
   "id": "fde8d4de",
   "metadata": {},
   "outputs": [],
   "source": [
    "sum_matrix = matrix + transpose\n",
    "sum_matrix\n"
   ]
  },
  {
   "cell_type": "code",
   "execution_count": null,
   "id": "155a3387",
   "metadata": {},
   "outputs": [],
   "source": [
    "product_matrix = np.dot(matrix, transpose)\n",
    "product_matrix\n"
   ]
  },
  {
   "cell_type": "markdown",
   "id": "0c6641d6",
   "metadata": {},
   "source": [
    "#### numpy indexing\n",
    "\n",
    "1.- Create a numpy array [10, 20, 30, 40, 50, 60] \\\n",
    "2.- print second and last index \\\n",
    "3.- print elements 1-3 \\\n",
    "4.- print all but the first 2 elements \\\n",
    "5.- reshape the array to be a 2x3 matrix "
   ]
  },
  {
   "cell_type": "code",
   "execution_count": null,
   "id": "3fcfaa53",
   "metadata": {},
   "outputs": [],
   "source": [
    "arr = np.array([10, 20, 30, 40, 50, 60])\n",
    "arr"
   ]
  },
  {
   "cell_type": "code",
   "execution_count": null,
   "id": "d7ccc8f9",
   "metadata": {},
   "outputs": [],
   "source": [
    "arr[1]\n"
   ]
  },
  {
   "cell_type": "code",
   "execution_count": null,
   "id": "d95f4e8c",
   "metadata": {},
   "outputs": [],
   "source": [
    "arr[-1]"
   ]
  },
  {
   "cell_type": "code",
   "execution_count": null,
   "id": "e5b0cade",
   "metadata": {},
   "outputs": [],
   "source": [
    "arr[1:4]"
   ]
  },
  {
   "cell_type": "code",
   "execution_count": null,
   "id": "4cb26a79",
   "metadata": {},
   "outputs": [],
   "source": [
    "arr[2:]"
   ]
  },
  {
   "cell_type": "code",
   "execution_count": null,
   "id": "57806f27",
   "metadata": {},
   "outputs": [],
   "source": [
    "reshaped_arr = arr.reshape((2, 3))\n",
    "reshaped_arr"
   ]
  },
  {
   "cell_type": "markdown",
   "id": "013209d7",
   "metadata": {},
   "source": [
    "#### Creating random arrays\n",
    "1- Create a 3x3 matrix with random numbers. \\\n",
    "2.- Create a 2x3 matrix with random integers.\n"
   ]
  },
  {
   "cell_type": "code",
   "execution_count": null,
   "id": "61f38312",
   "metadata": {},
   "outputs": [],
   "source": [
    "\n",
    "np.random.seed(42)\n",
    "random_array = np.random.rand(3,3)\n",
    "random_array\n"
   ]
  },
  {
   "cell_type": "code",
   "execution_count": null,
   "id": "989760ee",
   "metadata": {},
   "outputs": [],
   "source": [
    "random_array_int = np.random.randint(0,10, size=(2,3))\n",
    "random_array_int"
   ]
  },
  {
   "cell_type": "markdown",
   "id": "44a70654",
   "metadata": {},
   "source": [
    "#### Boolean Indexing and Filtering\n",
    "1.- Generate a random dataset in a 5x5 matrixs filled with integers from 1-50. \\\n",
    "2.- Filter the values that are bigger than 25 and replace them with 0. \\\n",
    "3.- Calculate the basic statisticañ dispersion and tendency meassurements."
   ]
  },
  {
   "cell_type": "code",
   "execution_count": null,
   "id": "2ca92c15",
   "metadata": {},
   "outputs": [],
   "source": [
    "dataset = np.random.randint(1,51, size=[5,5])\n",
    "dataset"
   ]
  },
  {
   "cell_type": "code",
   "execution_count": null,
   "id": "770293b9",
   "metadata": {},
   "outputs": [],
   "source": [
    "dataset[dataset > 25] = 0\n",
    "dataset"
   ]
  },
  {
   "cell_type": "code",
   "execution_count": null,
   "id": "addf820c",
   "metadata": {},
   "outputs": [],
   "source": [
    "np.mean(dataset)"
   ]
  },
  {
   "cell_type": "code",
   "execution_count": null,
   "id": "469a37e7",
   "metadata": {},
   "outputs": [],
   "source": [
    "np.median(dataset)"
   ]
  },
  {
   "cell_type": "code",
   "execution_count": null,
   "id": "f9d37a3f",
   "metadata": {},
   "outputs": [],
   "source": [
    "np.std(dataset)"
   ]
  },
  {
   "cell_type": "code",
   "execution_count": null,
   "id": "db1a44c6",
   "metadata": {},
   "outputs": [],
   "source": [
    "np.var(dataset)"
   ]
  },
  {
   "cell_type": "markdown",
   "id": "7a97908f",
   "metadata": {},
   "source": [
    "#### Homework exercise numpy\n",
    "\n",
    "⎡ 2  3 ⎤ \\\n",
    "⎣ 0  1 ⎦ \n",
    "\n",
    "\n",
    "⎡ 1  2 ⎤  \n",
    "⎣ 4  0 ⎦ \n",
    "\n",
    "1. The product\n",
    "2. Product's transpose.\n",
    "3. Determinant of the product\n",
    "4. The inverse of the product."
   ]
  },
  {
   "cell_type": "code",
   "execution_count": null,
   "id": "1ab68367",
   "metadata": {},
   "outputs": [],
   "source": [
    "A = np.array([[2, 3],[0, 1]])\n",
    "B = np.array([[1, 2],[4, 0]])"
   ]
  },
  {
   "cell_type": "code",
   "execution_count": null,
   "id": "d1448e6c",
   "metadata": {},
   "outputs": [],
   "source": [
    "C = np.dot(A, B)\n",
    "C"
   ]
  },
  {
   "cell_type": "code",
   "execution_count": null,
   "id": "172118ac",
   "metadata": {},
   "outputs": [],
   "source": [
    "C = np.dot(A, B)\n",
    "C"
   ]
  },
  {
   "cell_type": "code",
   "execution_count": null,
   "id": "9ab63d45",
   "metadata": {},
   "outputs": [],
   "source": [
    "determinante = np.linalg.det(C)\n",
    "determinante"
   ]
  },
  {
   "cell_type": "code",
   "execution_count": null,
   "id": "1f1112e2",
   "metadata": {},
   "outputs": [],
   "source": [
    "inverse = np.linalg.inv(C)\n",
    "inverse"
   ]
  }
 ],
 "metadata": {
  "kernelspec": {
   "display_name": "Python 3",
   "language": "python",
   "name": "python3"
  },
  "language_info": {
   "codemirror_mode": {
    "name": "ipython",
    "version": 3
   },
   "file_extension": ".py",
   "mimetype": "text/x-python",
   "name": "python",
   "nbconvert_exporter": "python",
   "pygments_lexer": "ipython3",
   "version": "3.10.11"
  }
 },
 "nbformat": 4,
 "nbformat_minor": 5
}
